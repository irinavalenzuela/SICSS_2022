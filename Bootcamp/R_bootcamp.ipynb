{
  "nbformat": 4,
  "nbformat_minor": 0,
  "metadata": {
    "colab": {
      "name": "R_bootcamp.ipynb",
      "provenance": [],
      "authorship_tag": "ABX9TyMBRCwRjDEz96/HBOjL1V5T",
      "include_colab_link": true
    },
    "kernelspec": {
      "name": "ir",
      "display_name": "R"
    },
    "language_info": {
      "name": "R"
    }
  },
  "cells": [
    {
      "cell_type": "markdown",
      "metadata": {
        "id": "view-in-github",
        "colab_type": "text"
      },
      "source": [
        "<a href=\"https://colab.research.google.com/github/irinavalenzuela/SICSS_2022/blob/main/Bootcamp/R_bootcamp.ipynb\" target=\"_parent\"><img src=\"https://colab.research.google.com/assets/colab-badge.svg\" alt=\"Open In Colab\"/></a>"
      ]
    },
    {
      "cell_type": "markdown",
      "source": [
        "# SICSS Bootcamp\n",
        "\n",
        "Practice based on the online training program offered by the Summer Institute in Computational Social Science (SICSS)"
      ],
      "metadata": {
        "id": "L9pm83orOfSo"
      }
    },
    {
      "cell_type": "markdown",
      "source": [
        "## R Basics\n",
        "Create and name different types of objects and learn about different classes of objects."
      ],
      "metadata": {
        "id": "Tpx80TZYPBbR"
      }
    },
    {
      "cell_type": "code",
      "execution_count": null,
      "metadata": {
        "id": "cUBY-wELM9Od"
      },
      "outputs": [],
      "source": [
        ""
      ]
    }
  ]
}