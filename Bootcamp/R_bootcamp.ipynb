{
  "nbformat": 4,
  "nbformat_minor": 0,
  "metadata": {
    "colab": {
      "name": "R_bootcamp.ipynb",
      "provenance": [],
      "authorship_tag": "ABX9TyOu4krK4Rn4sewYQj+H1lFu",
      "include_colab_link": true
    },
    "kernelspec": {
      "name": "ir",
      "display_name": "R"
    },
    "language_info": {
      "name": "R"
    }
  },
  "cells": [
    {
      "cell_type": "markdown",
      "metadata": {
        "id": "view-in-github",
        "colab_type": "text"
      },
      "source": [
        "<a href=\"https://colab.research.google.com/github/irinavalenzuela/SICSS_2022/blob/main/Bootcamp/R_bootcamp.ipynb\" target=\"_parent\"><img src=\"https://colab.research.google.com/assets/colab-badge.svg\" alt=\"Open In Colab\"/></a>"
      ]
    },
    {
      "cell_type": "markdown",
      "source": [
        "# SICSS Bootcamp\n",
        "\n",
        "Practice based on the online training program offered by the Summer Institute in Computational Social Science (SICSS)"
      ],
      "metadata": {
        "id": "L9pm83orOfSo"
      }
    },
    {
      "cell_type": "markdown",
      "source": [
        "## R Basics\n",
        "Create and name different types of objects and learn about different classes of objects."
      ],
      "metadata": {
        "id": "Tpx80TZYPBbR"
      }
    },
    {
      "cell_type": "code",
      "execution_count": 2,
      "metadata": {
        "colab": {
          "base_uri": "https://localhost:8080/",
          "height": 34
        },
        "id": "cUBY-wELM9Od",
        "outputId": "16692b02-9fd0-4742-975a-b76c20cdc317"
      },
      "outputs": [
        {
          "output_type": "display_data",
          "data": {
            "text/html": [
              "2"
            ],
            "text/markdown": "2",
            "text/latex": "2",
            "text/plain": [
              "[1] 2"
            ]
          },
          "metadata": {}
        }
      ],
      "source": [
        "# Create objects (dataset, number, vectors, etc)\n",
        "\n",
        "myobject <- 2\n",
        "\n",
        "myobject\n"
      ]
    },
    {
      "cell_type": "code",
      "source": [
        "# Dataset: combination of vectors\n",
        "my_vector <- c(1, 2, 3) # each element is separate by a comma. Numerical vector\n",
        "my_string <- c(\"this\", \"is\", \"a\", \"vector\")\n"
      ],
      "metadata": {
        "id": "CeP5332WRb5Y"
      },
      "execution_count": 3,
      "outputs": []
    },
    {
      "cell_type": "code",
      "source": [
        "# Function\n",
        "mean(my_vector)"
      ],
      "metadata": {
        "colab": {
          "base_uri": "https://localhost:8080/",
          "height": 34
        },
        "id": "lNFPUCJOSEsg",
        "outputId": "d62f0e0b-3785-4a72-a899-c4b0f37ad2dd"
      },
      "execution_count": 4,
      "outputs": [
        {
          "output_type": "display_data",
          "data": {
            "text/html": [
              "2"
            ],
            "text/markdown": "2",
            "text/latex": "2",
            "text/plain": [
              "[1] 2"
            ]
          },
          "metadata": {}
        }
      ]
    },
    {
      "cell_type": "code",
      "source": [
        ""
      ],
      "metadata": {
        "id": "ozhNdDn4SXXr"
      },
      "execution_count": null,
      "outputs": []
    }
  ]
}