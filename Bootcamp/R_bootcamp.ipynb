{
  "nbformat": 4,
  "nbformat_minor": 0,
  "metadata": {
    "colab": {
      "name": "R_bootcamp.ipynb",
      "provenance": [],
      "collapsed_sections": [],
      "authorship_tag": "ABX9TyNrJcmsW4Nt2csbvv26AOQ6",
      "include_colab_link": true
    },
    "kernelspec": {
      "name": "ir",
      "display_name": "R"
    },
    "language_info": {
      "name": "R"
    }
  },
  "cells": [
    {
      "cell_type": "markdown",
      "metadata": {
        "id": "view-in-github",
        "colab_type": "text"
      },
      "source": [
        "<a href=\"https://colab.research.google.com/github/irinavalenzuela/SICSS_2022/blob/main/Bootcamp/R_bootcamp.ipynb\" target=\"_parent\"><img src=\"https://colab.research.google.com/assets/colab-badge.svg\" alt=\"Open In Colab\"/></a>"
      ]
    },
    {
      "cell_type": "markdown",
      "source": [
        "# SICSS Bootcamp\n",
        "\n",
        "Practice based on the online training program offered by the Summer Institute in Computational Social Science (SICSS)"
      ],
      "metadata": {
        "id": "L9pm83orOfSo"
      }
    },
    {
      "cell_type": "markdown",
      "source": [
        "## R Basics\n",
        "Create and name different types of objects and learn about different classes of objects."
      ],
      "metadata": {
        "id": "Tpx80TZYPBbR"
      }
    },
    {
      "cell_type": "code",
      "execution_count": 2,
      "metadata": {
        "colab": {
          "base_uri": "https://localhost:8080/",
          "height": 34
        },
        "id": "cUBY-wELM9Od",
        "outputId": "16692b02-9fd0-4742-975a-b76c20cdc317"
      },
      "outputs": [
        {
          "output_type": "display_data",
          "data": {
            "text/html": [
              "2"
            ],
            "text/markdown": "2",
            "text/latex": "2",
            "text/plain": [
              "[1] 2"
            ]
          },
          "metadata": {}
        }
      ],
      "source": [
        "# Create objects (dataset, number, vectors, etc)\n",
        "\n",
        "myobject <- 2\n",
        "\n",
        "myobject\n"
      ]
    },
    {
      "cell_type": "code",
      "source": [
        "# Dataset: combination of vectors\n",
        "my_vector <- c(1, 2, 3) # each element is separate by a comma. Numerical vector\n",
        "my_string <- c(\"this\", \"is\", \"a\", \"vector\")\n"
      ],
      "metadata": {
        "id": "CeP5332WRb5Y"
      },
      "execution_count": 3,
      "outputs": []
    },
    {
      "cell_type": "markdown",
      "source": [
        "You can access to the help file for any funtion by typing a ?function. For example: ?mean"
      ],
      "metadata": {
        "id": "RiUl0j7UZJGg"
      }
    },
    {
      "cell_type": "code",
      "source": [
        "# Function\n",
        "mean(my_vector)\n",
        "mean(my_string) # Warning message"
      ],
      "metadata": {
        "colab": {
          "base_uri": "https://localhost:8080/",
          "height": 87
        },
        "id": "lNFPUCJOSEsg",
        "outputId": "98eee1c1-949f-4f96-c9bf-7196e73833b6"
      },
      "execution_count": 5,
      "outputs": [
        {
          "output_type": "display_data",
          "data": {
            "text/html": [
              "2"
            ],
            "text/markdown": "2",
            "text/latex": "2",
            "text/plain": [
              "[1] 2"
            ]
          },
          "metadata": {}
        },
        {
          "output_type": "stream",
          "name": "stderr",
          "text": [
            "Warning message in mean.default(my_string):\n",
            "“argument is not numeric or logical: returning NA”\n"
          ]
        },
        {
          "output_type": "display_data",
          "data": {
            "text/html": [
              "&lt;NA&gt;"
            ],
            "text/markdown": "&lt;NA&gt;",
            "text/latex": "<NA>",
            "text/plain": [
              "[1] NA"
            ]
          },
          "metadata": {}
        }
      ]
    },
    {
      "cell_type": "code",
      "source": [
        "#Indexing a vector\n",
        "my_vector[2]\n",
        "my_string[4]"
      ],
      "metadata": {
        "colab": {
          "base_uri": "https://localhost:8080/",
          "height": 51
        },
        "id": "ozhNdDn4SXXr",
        "outputId": "f9933f35-1a63-4ac9-e736-1a70873b8480"
      },
      "execution_count": 6,
      "outputs": [
        {
          "output_type": "display_data",
          "data": {
            "text/html": [
              "2"
            ],
            "text/markdown": "2",
            "text/latex": "2",
            "text/plain": [
              "[1] 2"
            ]
          },
          "metadata": {}
        },
        {
          "output_type": "display_data",
          "data": {
            "text/html": [
              "'vector'"
            ],
            "text/markdown": "'vector'",
            "text/latex": "'vector'",
            "text/plain": [
              "[1] \"vector\""
            ]
          },
          "metadata": {}
        }
      ]
    },
    {
      "cell_type": "code",
      "source": [
        "# Dataframe\n",
        "load(\"Coronavirus_Tweets.Rdata\")\n",
        "ls() # show dataframe in your workspace\n",
        "#View(covid_tweets) # view with V (uppercase)\n",
        "head(covid_tweets,2)"
      ],
      "metadata": {
        "colab": {
          "base_uri": "https://localhost:8080/",
          "height": 482
        },
        "id": "IMRMK_f8TkLo",
        "outputId": "17404aec-4dba-410e-ff2a-a4397fc32d1b"
      },
      "execution_count": 17,
      "outputs": [
        {
          "output_type": "display_data",
          "data": {
            "text/html": [
              "<style>\n",
              ".list-inline {list-style: none; margin:0; padding: 0}\n",
              ".list-inline>li {display: inline-block}\n",
              ".list-inline>li:not(:last-child)::after {content: \"\\00b7\"; padding: 0 .5ex}\n",
              "</style>\n",
              "<ol class=list-inline><li>'covid_tweets'</li><li>'my_string'</li><li>'my_vector'</li><li>'myobject'</li></ol>\n"
            ],
            "text/markdown": "1. 'covid_tweets'\n2. 'my_string'\n3. 'my_vector'\n4. 'myobject'\n\n\n",
            "text/latex": "\\begin{enumerate*}\n\\item 'covid\\_tweets'\n\\item 'my\\_string'\n\\item 'my\\_vector'\n\\item 'myobject'\n\\end{enumerate*}\n",
            "text/plain": [
              "[1] \"covid_tweets\" \"my_string\"    \"my_vector\"    \"myobject\"    "
            ]
          },
          "metadata": {}
        },
        {
          "output_type": "display_data",
          "data": {
            "text/html": [
              "<table class=\"dataframe\">\n",
              "<caption>A tibble: 2 × 6</caption>\n",
              "<thead>\n",
              "\t<tr><th></th><th scope=col>date</th><th scope=col>twitter_handle</th><th scope=col>tweet_text</th><th scope=col>favorite_count</th><th scope=col>retweet_count</th><th scope=col>language</th></tr>\n",
              "\t<tr><th></th><th scope=col>&lt;dttm&gt;</th><th scope=col>&lt;chr&gt;</th><th scope=col>&lt;chr&gt;</th><th scope=col>&lt;int&gt;</th><th scope=col>&lt;int&gt;</th><th scope=col>&lt;chr&gt;</th></tr>\n",
              "</thead>\n",
              "<tbody>\n",
              "\t<tr><th scope=row>1</th><td>2020-08-20 11:32:09</td><td>TomFitton</td><td>Surprise! Study confirms you are unlikely to spread #coronavirus unless you exhibit symptoms. Which harkens back to the initial  advice to stay home if you are sick.Any shutdowns, etc. are malicious power politics at this point. And masks are still gross. https://t.co/L0sbyrQKJF            </td><td>3683</td><td>2290</td><td>en</td></tr>\n",
              "\t<tr><th scope=row>2</th><td>2020-08-13 23:12:26</td><td>TomFitton</td><td>.@Twitter preventing medical information from getting to Americans about possible treatment for #Coronavirus. Why?  Because it might benefit @RealDonaldTrump. How many lives have been lost and will be lost because of the political suppression of #Hydroxycholoroquine? https://t.co/hiPmPTFXck</td><td>4646</td><td>3777</td><td>en</td></tr>\n",
              "</tbody>\n",
              "</table>\n"
            ],
            "text/markdown": "\nA tibble: 2 × 6\n\n| <!--/--> | date &lt;dttm&gt; | twitter_handle &lt;chr&gt; | tweet_text &lt;chr&gt; | favorite_count &lt;int&gt; | retweet_count &lt;int&gt; | language &lt;chr&gt; |\n|---|---|---|---|---|---|---|\n| 1 | 2020-08-20 11:32:09 | TomFitton | Surprise! Study confirms you are unlikely to spread #coronavirus unless you exhibit symptoms. Which harkens back to the initial  advice to stay home if you are sick.Any shutdowns, etc. are malicious power politics at this point. And masks are still gross. https://t.co/L0sbyrQKJF             | 3683 | 2290 | en |\n| 2 | 2020-08-13 23:12:26 | TomFitton | .@Twitter preventing medical information from getting to Americans about possible treatment for #Coronavirus. Why?  Because it might benefit @RealDonaldTrump. How many lives have been lost and will be lost because of the political suppression of #Hydroxycholoroquine? https://t.co/hiPmPTFXck | 4646 | 3777 | en |\n\n",
            "text/latex": "A tibble: 2 × 6\n\\begin{tabular}{r|llllll}\n  & date & twitter\\_handle & tweet\\_text & favorite\\_count & retweet\\_count & language\\\\\n  & <dttm> & <chr> & <chr> & <int> & <int> & <chr>\\\\\n\\hline\n\t1 & 2020-08-20 11:32:09 & TomFitton & Surprise! Study confirms you are unlikely to spread \\#coronavirus unless you exhibit symptoms. Which harkens back to the initial  advice to stay home if you are sick.Any shutdowns, etc. are malicious power politics at this point. And masks are still gross. https://t.co/L0sbyrQKJF             & 3683 & 2290 & en\\\\\n\t2 & 2020-08-13 23:12:26 & TomFitton & .@Twitter preventing medical information from getting to Americans about possible treatment for \\#Coronavirus. Why?  Because it might benefit @RealDonaldTrump. How many lives have been lost and will be lost because of the political suppression of \\#Hydroxycholoroquine? https://t.co/hiPmPTFXck & 4646 & 3777 & en\\\\\n\\end{tabular}\n",
            "text/plain": [
              "  date                twitter_handle\n",
              "1 2020-08-20 11:32:09 TomFitton     \n",
              "2 2020-08-13 23:12:26 TomFitton     \n",
              "  tweet_text                                                                                                                                                                                                                                                                                         \n",
              "1 Surprise! Study confirms you are unlikely to spread #coronavirus unless you exhibit symptoms. Which harkens back to the initial  advice to stay home if you are sick.Any shutdowns, etc. are malicious power politics at this point. And masks are still gross. https://t.co/L0sbyrQKJF            \n",
              "2 .@Twitter preventing medical information from getting to Americans about possible treatment for #Coronavirus. Why?  Because it might benefit @RealDonaldTrump. How many lives have been lost and will be lost because of the political suppression of #Hydroxycholoroquine? https://t.co/hiPmPTFXck\n",
              "  favorite_count retweet_count language\n",
              "1 3683           2290          en      \n",
              "2 4646           3777          en      "
            ]
          },
          "metadata": {}
        }
      ]
    },
    {
      "cell_type": "code",
      "source": [
        "# Set directory\n",
        "#setwd(\"~/Documents\")"
      ],
      "metadata": {
        "id": "nv6TDQ4IUpV0"
      },
      "execution_count": null,
      "outputs": []
    },
    {
      "cell_type": "code",
      "source": [
        "#Look \n",
        "covid_tweets$tweet_text[3]"
      ],
      "metadata": {
        "colab": {
          "base_uri": "https://localhost:8080/",
          "height": 68
        },
        "id": "fYeAubbVXwR5",
        "outputId": "67374d02-2ca0-4ffa-8164-d14ec937eda6"
      },
      "execution_count": 15,
      "outputs": [
        {
          "output_type": "display_data",
          "data": {
            "text/html": [
              "'Still waiting for those \"gold standard\" randomized, placebo controlled studies that show masks, shutdowns, social distancing, closing schools, scaring people, suppressing voting in person in order to push vote by mail fraud, destroying Constitution prevent #coronavirus spread. https://t.co/cTPZA7RPem'"
            ],
            "text/markdown": "'Still waiting for those \"gold standard\" randomized, placebo controlled studies that show masks, shutdowns, social distancing, closing schools, scaring people, suppressing voting in person in order to push vote by mail fraud, destroying Constitution prevent #coronavirus spread. https://t.co/cTPZA7RPem'",
            "text/latex": "'Still waiting for those \"gold standard\" randomized, placebo controlled studies that show masks, shutdowns, social distancing, closing schools, scaring people, suppressing voting in person in order to push vote by mail fraud, destroying Constitution prevent \\#coronavirus spread. https://t.co/cTPZA7RPem'",
            "text/plain": [
              "[1] \"Still waiting for those \\\"gold standard\\\" randomized, placebo controlled studies that show masks, shutdowns, social distancing, closing schools, scaring people, suppressing voting in person in order to push vote by mail fraud, destroying Constitution prevent #coronavirus spread. https://t.co/cTPZA7RPem\""
            ]
          },
          "metadata": {}
        }
      ]
    },
    {
      "cell_type": "code",
      "source": [
        "#Quiz\n",
        "\n",
        "#2.Extract the 3rd element of the vector using numerical indexing\n",
        "random_vector <- c(\"R\",\"is\",\"great\")\n",
        "random_vector[3]\n",
        "\n",
        "#3. Use R code to identify the data type of some_vector. \n",
        "# What is the largest number in this vector? How about the mean value?\n",
        "\n",
        "some_vector <- c(25555,342343,123123123,4234234,53243234,54324234,5421111,12312312,111231,\n",
        "                     1231231,12312312,12312312,123123,898972,789872,2343,23423423,2343221,23423,\n",
        "                     14444,44324222,2342341,124231111,22233345,1111233333,1231231,1231231)\n",
        "\n",
        "class(some_vector)  # Check data type\n",
        "max(some_vector)\n",
        "mean(some_vector)            "
      ],
      "metadata": {
        "colab": {
          "base_uri": "https://localhost:8080/",
          "height": 85
        },
        "id": "CjjtVsmRX1-x",
        "outputId": "c67bdfce-beda-40ba-ed33-f4ba9ad8647d"
      },
      "execution_count": 25,
      "outputs": [
        {
          "output_type": "display_data",
          "data": {
            "text/html": [
              "'great'"
            ],
            "text/markdown": "'great'",
            "text/latex": "'great'",
            "text/plain": [
              "[1] \"great\""
            ]
          },
          "metadata": {}
        },
        {
          "output_type": "display_data",
          "data": {
            "text/html": [
              "'numeric'"
            ],
            "text/markdown": "'numeric'",
            "text/latex": "'numeric'",
            "text/plain": [
              "[1] \"numeric\""
            ]
          },
          "metadata": {}
        },
        {
          "output_type": "display_data",
          "data": {
            "text/html": [
              "1111233333"
            ],
            "text/markdown": "1111233333",
            "text/latex": "1111233333",
            "text/plain": [
              "[1] 1111233333"
            ]
          },
          "metadata": {}
        },
        {
          "output_type": "display_data",
          "data": {
            "text/html": [
              "59756995.0740741"
            ],
            "text/markdown": "59756995.0740741",
            "text/latex": "59756995.0740741",
            "text/plain": [
              "[1] 59756995"
            ]
          },
          "metadata": {}
        }
      ]
    },
    {
      "cell_type": "code",
      "source": [
        "#Quiz (cont.)\n",
        "\n",
        "#For the remainder of this quiz, we’ll look at a dataframe called congress. \n",
        "# Run the code below to download the dataset from a Github site.\n",
        "\n",
        "load(url('https://dssoc.github.io/datasets/congress.RData')) \n",
        "ls()\n",
        "head(congress,2)"
      ],
      "metadata": {
        "colab": {
          "base_uri": "https://localhost:8080/",
          "height": 176
        },
        "id": "6K90E9VMY9C7",
        "outputId": "d3ecbcee-4733-435e-db9f-4f8b8ffa6c19"
      },
      "execution_count": 29,
      "outputs": [
        {
          "output_type": "display_data",
          "data": {
            "text/html": [
              "<style>\n",
              ".list-inline {list-style: none; margin:0; padding: 0}\n",
              ".list-inline>li {display: inline-block}\n",
              ".list-inline>li:not(:last-child)::after {content: \"\\00b7\"; padding: 0 .5ex}\n",
              "</style>\n",
              "<ol class=list-inline><li>'congress'</li><li>'congress_contact'</li><li>'covid_tweets'</li><li>'my_string'</li><li>'my_vector'</li><li>'myobject'</li><li>'random_vector'</li><li>'some_vector'</li></ol>\n"
            ],
            "text/markdown": "1. 'congress'\n2. 'congress_contact'\n3. 'covid_tweets'\n4. 'my_string'\n5. 'my_vector'\n6. 'myobject'\n7. 'random_vector'\n8. 'some_vector'\n\n\n",
            "text/latex": "\\begin{enumerate*}\n\\item 'congress'\n\\item 'congress\\_contact'\n\\item 'covid\\_tweets'\n\\item 'my\\_string'\n\\item 'my\\_vector'\n\\item 'myobject'\n\\item 'random\\_vector'\n\\item 'some\\_vector'\n\\end{enumerate*}\n",
            "text/plain": [
              "[1] \"congress\"         \"congress_contact\" \"covid_tweets\"     \"my_string\"       \n",
              "[5] \"my_vector\"        \"myobject\"         \"random_vector\"    \"some_vector\"     "
            ]
          },
          "metadata": {}
        },
        {
          "output_type": "display_data",
          "data": {
            "text/html": [
              "<table class=\"dataframe\">\n",
              "<caption>A data.frame: 2 × 8</caption>\n",
              "<thead>\n",
              "\t<tr><th></th><th scope=col>bioguide_id</th><th scope=col>full_name</th><th scope=col>type</th><th scope=col>party</th><th scope=col>state</th><th scope=col>birthdate</th><th scope=col>gender</th><th scope=col>birthyear</th></tr>\n",
              "\t<tr><th></th><th scope=col>&lt;chr&gt;</th><th scope=col>&lt;chr&gt;</th><th scope=col>&lt;fct&gt;</th><th scope=col>&lt;fct&gt;</th><th scope=col>&lt;chr&gt;</th><th scope=col>&lt;date&gt;</th><th scope=col>&lt;fct&gt;</th><th scope=col>&lt;dbl&gt;</th></tr>\n",
              "</thead>\n",
              "<tbody>\n",
              "\t<tr><th scope=row>1</th><td>B000944</td><td>Sherrod Brown </td><td>sen</td><td>Democrat</td><td>OH</td><td>1952-11-09</td><td>M</td><td>1952</td></tr>\n",
              "\t<tr><th scope=row>2</th><td>C000127</td><td>Maria Cantwell</td><td>sen</td><td>Democrat</td><td>WA</td><td>1958-10-13</td><td>F</td><td>1958</td></tr>\n",
              "</tbody>\n",
              "</table>\n"
            ],
            "text/markdown": "\nA data.frame: 2 × 8\n\n| <!--/--> | bioguide_id &lt;chr&gt; | full_name &lt;chr&gt; | type &lt;fct&gt; | party &lt;fct&gt; | state &lt;chr&gt; | birthdate &lt;date&gt; | gender &lt;fct&gt; | birthyear &lt;dbl&gt; |\n|---|---|---|---|---|---|---|---|---|\n| 1 | B000944 | Sherrod Brown  | sen | Democrat | OH | 1952-11-09 | M | 1952 |\n| 2 | C000127 | Maria Cantwell | sen | Democrat | WA | 1958-10-13 | F | 1958 |\n\n",
            "text/latex": "A data.frame: 2 × 8\n\\begin{tabular}{r|llllllll}\n  & bioguide\\_id & full\\_name & type & party & state & birthdate & gender & birthyear\\\\\n  & <chr> & <chr> & <fct> & <fct> & <chr> & <date> & <fct> & <dbl>\\\\\n\\hline\n\t1 & B000944 & Sherrod Brown  & sen & Democrat & OH & 1952-11-09 & M & 1952\\\\\n\t2 & C000127 & Maria Cantwell & sen & Democrat & WA & 1958-10-13 & F & 1958\\\\\n\\end{tabular}\n",
            "text/plain": [
              "  bioguide_id full_name      type party    state birthdate  gender birthyear\n",
              "1 B000944     Sherrod Brown  sen  Democrat OH    1952-11-09 M      1952     \n",
              "2 C000127     Maria Cantwell sen  Democrat WA    1958-10-13 F      1958     "
            ]
          },
          "metadata": {}
        }
      ]
    },
    {
      "cell_type": "code",
      "source": [
        "# 4. How many rows and columns does the congress dataframe have? \n",
        "# Use a function to show its data type. You must use R code to generate these values.\n",
        "\n",
        "nrow(congress)\n",
        "ncol(congress)\n",
        "str(congress) # Check the datatype of each column in dataframe\n",
        "\n",
        "# 5. What is the average age of all congress members? \n",
        "# What is the data type of the birthyear column?\n",
        "\n",
        "\n",
        "\n",
        "# 6. How much older is Sherrod Brown (a member of congress) \n",
        "# compared to the average of members of congress? How about Dianne Feinstein?\n",
        "\n",
        "\n",
        "\n",
        "\n",
        "# 7. Who are the oldest members of congress?"
      ],
      "metadata": {
        "colab": {
          "base_uri": "https://localhost:8080/",
          "height": 233
        },
        "id": "tKCRt7hVcid0",
        "outputId": "a1844751-63b5-466e-a168-2e304d0d29d1"
      },
      "execution_count": 33,
      "outputs": [
        {
          "output_type": "display_data",
          "data": {
            "text/html": [
              "539"
            ],
            "text/markdown": "539",
            "text/latex": "539",
            "text/plain": [
              "[1] 539"
            ]
          },
          "metadata": {}
        },
        {
          "output_type": "display_data",
          "data": {
            "text/html": [
              "8"
            ],
            "text/markdown": "8",
            "text/latex": "8",
            "text/plain": [
              "[1] 8"
            ]
          },
          "metadata": {}
        },
        {
          "output_type": "stream",
          "name": "stdout",
          "text": [
            "'data.frame':\t539 obs. of  8 variables:\n",
            " $ bioguide_id: chr  \"B000944\" \"C000127\" \"C000141\" \"C000174\" ...\n",
            " $ full_name  : chr  \"Sherrod Brown\" \"Maria Cantwell\" \"Benjamin L. Cardin\" \"Thomas R. Carper\" ...\n",
            " $ type       : Factor w/ 2 levels \"rep\",\"sen\": 2 2 2 2 2 2 2 2 2 2 ...\n",
            " $ party      : Factor w/ 3 levels \"Democrat\",\"Independent\",..: 1 1 1 1 1 1 1 1 2 1 ...\n",
            " $ state      : chr  \"OH\" \"WA\" \"MD\" \"DE\" ...\n",
            " $ birthdate  : Date, format: \"1952-11-09\" \"1958-10-13\" ...\n",
            " $ gender     : Factor w/ 2 levels \"F\",\"M\": 2 1 2 2 2 1 1 2 2 1 ...\n",
            " $ birthyear  : num  1952 1958 1943 1947 1960 ...\n"
          ]
        }
      ]
    },
    {
      "cell_type": "code",
      "source": [
        ""
      ],
      "metadata": {
        "id": "NUJ_w8JDctgr"
      },
      "execution_count": null,
      "outputs": []
    }
  ]
}