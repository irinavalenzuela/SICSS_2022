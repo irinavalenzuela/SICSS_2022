{
  "nbformat": 4,
  "nbformat_minor": 0,
  "metadata": {
    "colab": {
      "name": "R_bootcamp.ipynb",
      "provenance": [],
      "collapsed_sections": [],
      "authorship_tag": "ABX9TyNevOYyb9VlBVGfEFWMzjKm",
      "include_colab_link": true
    },
    "kernelspec": {
      "name": "ir",
      "display_name": "R"
    },
    "language_info": {
      "name": "R"
    }
  },
  "cells": [
    {
      "cell_type": "markdown",
      "metadata": {
        "id": "view-in-github",
        "colab_type": "text"
      },
      "source": [
        "<a href=\"https://colab.research.google.com/github/irinavalenzuela/SICSS_2022/blob/main/Bootcamp/R_bootcamp.ipynb\" target=\"_parent\"><img src=\"https://colab.research.google.com/assets/colab-badge.svg\" alt=\"Open In Colab\"/></a>"
      ]
    },
    {
      "cell_type": "markdown",
      "source": [
        "# SICSS Bootcamp\n",
        "\n",
        "Practice based on the online training program offered by the Summer Institute in Computational Social Science (SICSS)"
      ],
      "metadata": {
        "id": "L9pm83orOfSo"
      }
    },
    {
      "cell_type": "markdown",
      "source": [
        "## R Basics\n",
        "Create and name different types of objects and learn about different classes of objects."
      ],
      "metadata": {
        "id": "Tpx80TZYPBbR"
      }
    },
    {
      "cell_type": "code",
      "execution_count": 2,
      "metadata": {
        "colab": {
          "base_uri": "https://localhost:8080/",
          "height": 34
        },
        "id": "cUBY-wELM9Od",
        "outputId": "16692b02-9fd0-4742-975a-b76c20cdc317"
      },
      "outputs": [
        {
          "output_type": "display_data",
          "data": {
            "text/html": [
              "2"
            ],
            "text/markdown": "2",
            "text/latex": "2",
            "text/plain": [
              "[1] 2"
            ]
          },
          "metadata": {}
        }
      ],
      "source": [
        "# Create objects (dataset, number, vectors, etc)\n",
        "\n",
        "myobject <- 2\n",
        "\n",
        "myobject\n"
      ]
    },
    {
      "cell_type": "code",
      "source": [
        "# Dataset: combination of vectors\n",
        "my_vector <- c(1, 2, 3) # each element is separate by a comma. Numerical vector\n",
        "my_string <- c(\"this\", \"is\", \"a\", \"vector\")\n"
      ],
      "metadata": {
        "id": "CeP5332WRb5Y"
      },
      "execution_count": 3,
      "outputs": []
    },
    {
      "cell_type": "code",
      "source": [
        "# Function\n",
        "mean(my_vector)\n",
        "mean(my_string) # Warning message"
      ],
      "metadata": {
        "colab": {
          "base_uri": "https://localhost:8080/",
          "height": 87
        },
        "id": "lNFPUCJOSEsg",
        "outputId": "98eee1c1-949f-4f96-c9bf-7196e73833b6"
      },
      "execution_count": 5,
      "outputs": [
        {
          "output_type": "display_data",
          "data": {
            "text/html": [
              "2"
            ],
            "text/markdown": "2",
            "text/latex": "2",
            "text/plain": [
              "[1] 2"
            ]
          },
          "metadata": {}
        },
        {
          "output_type": "stream",
          "name": "stderr",
          "text": [
            "Warning message in mean.default(my_string):\n",
            "“argument is not numeric or logical: returning NA”\n"
          ]
        },
        {
          "output_type": "display_data",
          "data": {
            "text/html": [
              "&lt;NA&gt;"
            ],
            "text/markdown": "&lt;NA&gt;",
            "text/latex": "<NA>",
            "text/plain": [
              "[1] NA"
            ]
          },
          "metadata": {}
        }
      ]
    },
    {
      "cell_type": "code",
      "source": [
        "#Indexing a vector\n",
        "my_vector[2]\n",
        "my_string[4]"
      ],
      "metadata": {
        "colab": {
          "base_uri": "https://localhost:8080/",
          "height": 51
        },
        "id": "ozhNdDn4SXXr",
        "outputId": "f9933f35-1a63-4ac9-e736-1a70873b8480"
      },
      "execution_count": 6,
      "outputs": [
        {
          "output_type": "display_data",
          "data": {
            "text/html": [
              "2"
            ],
            "text/markdown": "2",
            "text/latex": "2",
            "text/plain": [
              "[1] 2"
            ]
          },
          "metadata": {}
        },
        {
          "output_type": "display_data",
          "data": {
            "text/html": [
              "'vector'"
            ],
            "text/markdown": "'vector'",
            "text/latex": "'vector'",
            "text/plain": [
              "[1] \"vector\""
            ]
          },
          "metadata": {}
        }
      ]
    },
    {
      "cell_type": "code",
      "source": [
        "# Dataframe\n",
        "load(\"Coronavirus_Tweets.Rdata\")\n",
        "ls() # show dataframe in your workspace\n",
        "#View(covid_tweets) # view with V (uppercase)\n",
        "head(covid_tweets)"
      ],
      "metadata": {
        "colab": {
          "base_uri": "https://localhost:8080/",
          "height": 1000
        },
        "id": "IMRMK_f8TkLo",
        "outputId": "abc92550-d1e6-4221-cd6d-cf51407b8d8e"
      },
      "execution_count": 14,
      "outputs": [
        {
          "output_type": "display_data",
          "data": {
            "text/html": [
              "<style>\n",
              ".list-inline {list-style: none; margin:0; padding: 0}\n",
              ".list-inline>li {display: inline-block}\n",
              ".list-inline>li:not(:last-child)::after {content: \"\\00b7\"; padding: 0 .5ex}\n",
              "</style>\n",
              "<ol class=list-inline><li>'covid_tweets'</li><li>'my_string'</li><li>'my_vector'</li><li>'myobject'</li></ol>\n"
            ],
            "text/markdown": "1. 'covid_tweets'\n2. 'my_string'\n3. 'my_vector'\n4. 'myobject'\n\n\n",
            "text/latex": "\\begin{enumerate*}\n\\item 'covid\\_tweets'\n\\item 'my\\_string'\n\\item 'my\\_vector'\n\\item 'myobject'\n\\end{enumerate*}\n",
            "text/plain": [
              "[1] \"covid_tweets\" \"my_string\"    \"my_vector\"    \"myobject\"    "
            ]
          },
          "metadata": {}
        },
        {
          "output_type": "display_data",
          "data": {
            "text/html": [
              "<table class=\"dataframe\">\n",
              "<caption>A tibble: 6 × 6</caption>\n",
              "<thead>\n",
              "\t<tr><th></th><th scope=col>date</th><th scope=col>twitter_handle</th><th scope=col>tweet_text</th><th scope=col>favorite_count</th><th scope=col>retweet_count</th><th scope=col>language</th></tr>\n",
              "\t<tr><th></th><th scope=col>&lt;dttm&gt;</th><th scope=col>&lt;chr&gt;</th><th scope=col>&lt;chr&gt;</th><th scope=col>&lt;int&gt;</th><th scope=col>&lt;int&gt;</th><th scope=col>&lt;chr&gt;</th></tr>\n",
              "</thead>\n",
              "<tbody>\n",
              "\t<tr><th scope=row>1</th><td>2020-08-20 11:32:09</td><td>TomFitton</td><td>Surprise! Study confirms you are unlikely to spread #coronavirus unless you exhibit symptoms. Which harkens back to the initial  advice to stay home if you are sick.Any shutdowns, etc. are malicious power politics at this point. And masks are still gross. https://t.co/L0sbyrQKJF                       </td><td>3683</td><td>2290</td><td>en</td></tr>\n",
              "\t<tr><th scope=row>2</th><td>2020-08-13 23:12:26</td><td>TomFitton</td><td>.@Twitter preventing medical information from getting to Americans about possible treatment for #Coronavirus. Why?  Because it might benefit @RealDonaldTrump. How many lives have been lost and will be lost because of the political suppression of #Hydroxycholoroquine? https://t.co/hiPmPTFXck           </td><td>4646</td><td>3777</td><td>en</td></tr>\n",
              "\t<tr><th scope=row>3</th><td>2020-08-20 12:58:49</td><td>TomFitton</td><td>Still waiting for those \"gold standard\" randomized, placebo controlled studies that show masks, shutdowns, social distancing, closing schools, scaring people, suppressing voting in person in order to push vote by mail fraud, destroying Constitution prevent #coronavirus spread. https://t.co/cTPZA7RPem </td><td>1036</td><td> 510</td><td>en</td></tr>\n",
              "\t<tr><th scope=row>4</th><td>2020-08-20 12:31:41</td><td>TomFitton</td><td>#Coronavirus crisis is over -- but the related constitutional and political abuses continue. https://t.co/ux6odNzkgh                                                                                                                                                                                          </td><td> 706</td><td> 312</td><td>en</td></tr>\n",
              "\t<tr><th scope=row>5</th><td>2020-08-19 13:35:28</td><td>TomFitton</td><td>Stacey Abrams/other leftists peddle false info about voter \"suppression\" even as they likely suppress the vote by using #coronavirus to scare Americans from voting securely in person. I challenged her directly when we testified on same panel to Congress. https://t.co/Ab3CjDUdLN https://t.co/HCBBoUwPeg</td><td> 729</td><td> 336</td><td>en</td></tr>\n",
              "\t<tr><th scope=row>6</th><td>2020-08-19 12:41:07</td><td>TomFitton</td><td>#Coronavirus crisis is over! https://t.co/K5Z7KSmjV1                                                                                                                                                                                                                                                          </td><td>1265</td><td> 627</td><td>en</td></tr>\n",
              "</tbody>\n",
              "</table>\n"
            ],
            "text/markdown": "\nA tibble: 6 × 6\n\n| <!--/--> | date &lt;dttm&gt; | twitter_handle &lt;chr&gt; | tweet_text &lt;chr&gt; | favorite_count &lt;int&gt; | retweet_count &lt;int&gt; | language &lt;chr&gt; |\n|---|---|---|---|---|---|---|\n| 1 | 2020-08-20 11:32:09 | TomFitton | Surprise! Study confirms you are unlikely to spread #coronavirus unless you exhibit symptoms. Which harkens back to the initial  advice to stay home if you are sick.Any shutdowns, etc. are malicious power politics at this point. And masks are still gross. https://t.co/L0sbyrQKJF                        | 3683 | 2290 | en |\n| 2 | 2020-08-13 23:12:26 | TomFitton | .@Twitter preventing medical information from getting to Americans about possible treatment for #Coronavirus. Why?  Because it might benefit @RealDonaldTrump. How many lives have been lost and will be lost because of the political suppression of #Hydroxycholoroquine? https://t.co/hiPmPTFXck            | 4646 | 3777 | en |\n| 3 | 2020-08-20 12:58:49 | TomFitton | Still waiting for those \"gold standard\" randomized, placebo controlled studies that show masks, shutdowns, social distancing, closing schools, scaring people, suppressing voting in person in order to push vote by mail fraud, destroying Constitution prevent #coronavirus spread. https://t.co/cTPZA7RPem  | 1036 |  510 | en |\n| 4 | 2020-08-20 12:31:41 | TomFitton | #Coronavirus crisis is over -- but the related constitutional and political abuses continue. https://t.co/ux6odNzkgh                                                                                                                                                                                           |  706 |  312 | en |\n| 5 | 2020-08-19 13:35:28 | TomFitton | Stacey Abrams/other leftists peddle false info about voter \"suppression\" even as they likely suppress the vote by using #coronavirus to scare Americans from voting securely in person. I challenged her directly when we testified on same panel to Congress. https://t.co/Ab3CjDUdLN https://t.co/HCBBoUwPeg |  729 |  336 | en |\n| 6 | 2020-08-19 12:41:07 | TomFitton | #Coronavirus crisis is over! https://t.co/K5Z7KSmjV1                                                                                                                                                                                                                                                           | 1265 |  627 | en |\n\n",
            "text/latex": "A tibble: 6 × 6\n\\begin{tabular}{r|llllll}\n  & date & twitter\\_handle & tweet\\_text & favorite\\_count & retweet\\_count & language\\\\\n  & <dttm> & <chr> & <chr> & <int> & <int> & <chr>\\\\\n\\hline\n\t1 & 2020-08-20 11:32:09 & TomFitton & Surprise! Study confirms you are unlikely to spread \\#coronavirus unless you exhibit symptoms. Which harkens back to the initial  advice to stay home if you are sick.Any shutdowns, etc. are malicious power politics at this point. And masks are still gross. https://t.co/L0sbyrQKJF                        & 3683 & 2290 & en\\\\\n\t2 & 2020-08-13 23:12:26 & TomFitton & .@Twitter preventing medical information from getting to Americans about possible treatment for \\#Coronavirus. Why?  Because it might benefit @RealDonaldTrump. How many lives have been lost and will be lost because of the political suppression of \\#Hydroxycholoroquine? https://t.co/hiPmPTFXck            & 4646 & 3777 & en\\\\\n\t3 & 2020-08-20 12:58:49 & TomFitton & Still waiting for those \"gold standard\" randomized, placebo controlled studies that show masks, shutdowns, social distancing, closing schools, scaring people, suppressing voting in person in order to push vote by mail fraud, destroying Constitution prevent \\#coronavirus spread. https://t.co/cTPZA7RPem  & 1036 &  510 & en\\\\\n\t4 & 2020-08-20 12:31:41 & TomFitton & \\#Coronavirus crisis is over -- but the related constitutional and political abuses continue. https://t.co/ux6odNzkgh                                                                                                                                                                                           &  706 &  312 & en\\\\\n\t5 & 2020-08-19 13:35:28 & TomFitton & Stacey Abrams/other leftists peddle false info about voter \"suppression\" even as they likely suppress the vote by using \\#coronavirus to scare Americans from voting securely in person. I challenged her directly when we testified on same panel to Congress. https://t.co/Ab3CjDUdLN https://t.co/HCBBoUwPeg &  729 &  336 & en\\\\\n\t6 & 2020-08-19 12:41:07 & TomFitton & \\#Coronavirus crisis is over! https://t.co/K5Z7KSmjV1                                                                                                                                                                                                                                                           & 1265 &  627 & en\\\\\n\\end{tabular}\n",
            "text/plain": [
              "  date                twitter_handle\n",
              "1 2020-08-20 11:32:09 TomFitton     \n",
              "2 2020-08-13 23:12:26 TomFitton     \n",
              "3 2020-08-20 12:58:49 TomFitton     \n",
              "4 2020-08-20 12:31:41 TomFitton     \n",
              "5 2020-08-19 13:35:28 TomFitton     \n",
              "6 2020-08-19 12:41:07 TomFitton     \n",
              "  tweet_text                                                                                                                                                                                                                                                                                                    \n",
              "1 Surprise! Study confirms you are unlikely to spread #coronavirus unless you exhibit symptoms. Which harkens back to the initial  advice to stay home if you are sick.Any shutdowns, etc. are malicious power politics at this point. And masks are still gross. https://t.co/L0sbyrQKJF                       \n",
              "2 .@Twitter preventing medical information from getting to Americans about possible treatment for #Coronavirus. Why?  Because it might benefit @RealDonaldTrump. How many lives have been lost and will be lost because of the political suppression of #Hydroxycholoroquine? https://t.co/hiPmPTFXck           \n",
              "3 Still waiting for those \"gold standard\" randomized, placebo controlled studies that show masks, shutdowns, social distancing, closing schools, scaring people, suppressing voting in person in order to push vote by mail fraud, destroying Constitution prevent #coronavirus spread. https://t.co/cTPZA7RPem \n",
              "4 #Coronavirus crisis is over -- but the related constitutional and political abuses continue. https://t.co/ux6odNzkgh                                                                                                                                                                                          \n",
              "5 Stacey Abrams/other leftists peddle false info about voter \"suppression\" even as they likely suppress the vote by using #coronavirus to scare Americans from voting securely in person. I challenged her directly when we testified on same panel to Congress. https://t.co/Ab3CjDUdLN https://t.co/HCBBoUwPeg\n",
              "6 #Coronavirus crisis is over! https://t.co/K5Z7KSmjV1                                                                                                                                                                                                                                                          \n",
              "  favorite_count retweet_count language\n",
              "1 3683           2290          en      \n",
              "2 4646           3777          en      \n",
              "3 1036            510          en      \n",
              "4  706            312          en      \n",
              "5  729            336          en      \n",
              "6 1265            627          en      "
            ]
          },
          "metadata": {}
        }
      ]
    },
    {
      "cell_type": "code",
      "source": [
        ""
      ],
      "metadata": {
        "id": "nv6TDQ4IUpV0"
      },
      "execution_count": null,
      "outputs": []
    }
  ]
}