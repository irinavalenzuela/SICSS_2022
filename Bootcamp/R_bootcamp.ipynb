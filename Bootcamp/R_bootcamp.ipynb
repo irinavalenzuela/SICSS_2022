{
  "nbformat": 4,
  "nbformat_minor": 0,
  "metadata": {
    "colab": {
      "name": "R_bootcamp.ipynb",
      "provenance": [],
      "collapsed_sections": [],
      "authorship_tag": "ABX9TyN7ObUL0Osq7slE25zpcY9a",
      "include_colab_link": true
    },
    "kernelspec": {
      "name": "ir",
      "display_name": "R"
    },
    "language_info": {
      "name": "R"
    }
  },
  "cells": [
    {
      "cell_type": "markdown",
      "metadata": {
        "id": "view-in-github",
        "colab_type": "text"
      },
      "source": [
        "<a href=\"https://colab.research.google.com/github/irinavalenzuela/SICSS_2022/blob/main/Bootcamp/R_bootcamp.ipynb\" target=\"_parent\"><img src=\"https://colab.research.google.com/assets/colab-badge.svg\" alt=\"Open In Colab\"/></a>"
      ]
    },
    {
      "cell_type": "markdown",
      "source": [
        "# SICSS Bootcamp\n",
        "\n",
        "Practice based on the online training program offered by the Summer Institute in Computational Social Science (SICSS)"
      ],
      "metadata": {
        "id": "L9pm83orOfSo"
      }
    },
    {
      "cell_type": "markdown",
      "source": [
        "## R Basics\n",
        "Create and name different types of objects and learn about different classes of objects."
      ],
      "metadata": {
        "id": "Tpx80TZYPBbR"
      }
    },
    {
      "cell_type": "code",
      "execution_count": 2,
      "metadata": {
        "colab": {
          "base_uri": "https://localhost:8080/",
          "height": 34
        },
        "id": "cUBY-wELM9Od",
        "outputId": "16692b02-9fd0-4742-975a-b76c20cdc317"
      },
      "outputs": [
        {
          "output_type": "display_data",
          "data": {
            "text/html": [
              "2"
            ],
            "text/markdown": "2",
            "text/latex": "2",
            "text/plain": [
              "[1] 2"
            ]
          },
          "metadata": {}
        }
      ],
      "source": [
        "# Create objects (dataset, number, vectors, etc)\n",
        "\n",
        "myobject <- 2\n",
        "\n",
        "myobject\n"
      ]
    },
    {
      "cell_type": "code",
      "source": [
        "# Dataset: combination of vectors\n",
        "my_vector <- c(1, 2, 3) # each element is separate by a comma. Numerical vector\n",
        "my_string <- c(\"this\", \"is\", \"a\", \"vector\")\n"
      ],
      "metadata": {
        "id": "CeP5332WRb5Y"
      },
      "execution_count": 3,
      "outputs": []
    },
    {
      "cell_type": "code",
      "source": [
        "# Function\n",
        "mean(my_vector)\n",
        "mean(my_string) # Warning message"
      ],
      "metadata": {
        "colab": {
          "base_uri": "https://localhost:8080/",
          "height": 87
        },
        "id": "lNFPUCJOSEsg",
        "outputId": "98eee1c1-949f-4f96-c9bf-7196e73833b6"
      },
      "execution_count": 5,
      "outputs": [
        {
          "output_type": "display_data",
          "data": {
            "text/html": [
              "2"
            ],
            "text/markdown": "2",
            "text/latex": "2",
            "text/plain": [
              "[1] 2"
            ]
          },
          "metadata": {}
        },
        {
          "output_type": "stream",
          "name": "stderr",
          "text": [
            "Warning message in mean.default(my_string):\n",
            "“argument is not numeric or logical: returning NA”\n"
          ]
        },
        {
          "output_type": "display_data",
          "data": {
            "text/html": [
              "&lt;NA&gt;"
            ],
            "text/markdown": "&lt;NA&gt;",
            "text/latex": "<NA>",
            "text/plain": [
              "[1] NA"
            ]
          },
          "metadata": {}
        }
      ]
    },
    {
      "cell_type": "code",
      "source": [
        "#Indexing a vector\n",
        "my_vector[2]\n",
        "my_string[4]"
      ],
      "metadata": {
        "colab": {
          "base_uri": "https://localhost:8080/",
          "height": 51
        },
        "id": "ozhNdDn4SXXr",
        "outputId": "f9933f35-1a63-4ac9-e736-1a70873b8480"
      },
      "execution_count": 6,
      "outputs": [
        {
          "output_type": "display_data",
          "data": {
            "text/html": [
              "2"
            ],
            "text/markdown": "2",
            "text/latex": "2",
            "text/plain": [
              "[1] 2"
            ]
          },
          "metadata": {}
        },
        {
          "output_type": "display_data",
          "data": {
            "text/html": [
              "'vector'"
            ],
            "text/markdown": "'vector'",
            "text/latex": "'vector'",
            "text/plain": [
              "[1] \"vector\""
            ]
          },
          "metadata": {}
        }
      ]
    },
    {
      "cell_type": "code",
      "source": [
        "# Dataframe\n"
      ],
      "metadata": {
        "id": "IMRMK_f8TkLo"
      },
      "execution_count": null,
      "outputs": []
    }
  ]
}